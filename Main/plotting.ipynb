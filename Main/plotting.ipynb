{
 "cells": [
  {
   "cell_type": "code",
   "execution_count": null,
   "metadata": {},
   "outputs": [],
   "source": [
    "import pandas as pd\n",
    "import matplotlib.pyplot as plt"
   ]
  },
  {
   "cell_type": "code",
   "execution_count": null,
   "metadata": {},
   "outputs": [],
   "source": [
    "def plot_train_test_error(filename, window_size=5):\n",
    "    # Read the data into a DataFrame\n",
    "    df = pd.read_csv(filename, delimiter=',', header=0, names=['Train_Error', 'Test_Error'])\n",
    "    \n",
    "    # Rolling average to smooth out the lines\n",
    "    df['Train_Error_Smoothed'] = df['Train_Error'].rolling(window=window_size, min_periods=1).mean()\n",
    "    df['Test_Error_Smoothed'] = df['Test_Error'].rolling(window=window_size, min_periods=1).mean()\n",
    "\n",
    "    # Plot the smoothed train and test errors\n",
    "    plt.figure(figsize=(10, 6))\n",
    "    plt.plot(df.index + 1, df['Train_Error_Smoothed'], label='Train Error', color='blue', linestyle='--', linewidth=2)\n",
    "    plt.plot(df.index + 1, df['Test_Error_Smoothed'], label='Test Error', color='red', linestyle='-', linewidth=2)\n",
    "\n",
    "    # Add labels, legend, and title\n",
    "    plt.xlabel('Epochs')\n",
    "    plt.ylabel('Error')\n",
    "    plt.title('Train vs Test Error per Epoch')\n",
    "    plt.legend(loc='best')\n",
    "\n",
    "    # Display the plot with grid\n",
    "    plt.grid(True, linestyle='--', alpha=0.7)\n",
    "    plt.show()"
   ]
  },
  {
   "cell_type": "code",
   "execution_count": null,
   "metadata": {},
   "outputs": [],
   "source": [
    "plot_train_test_error(\"results.txt\")"
   ]
  }
 ],
 "metadata": {
  "kernelspec": {
   "display_name": "Python 3",
   "language": "python",
   "name": "python3"
  },
  "language_info": {
   "name": "python",
   "version": "3.10.12"
  }
 },
 "nbformat": 4,
 "nbformat_minor": 2
}
